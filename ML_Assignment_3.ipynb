{
 "cells": [
  {
   "cell_type": "markdown",
   "id": "3c01c30a",
   "metadata": {},
   "source": [
    "# Uppgift 3 - Bildklassificering \n",
    "\n",
    "I denna uppgiften ska ni testa på att klassificera bilder mha 2 (3) olika tekniker:\n",
    "* SVM - Support vector machines\n",
    "* Fully-connected Neural Network (FC)\n",
    "* Convolutional Neural Network (CNN)\n",
    "\n",
    "Ni ska jämföra resultaten på test-setet utifrån bl.a. hur mycket data som användes för att träna de olika modellerna. Ni ska **kommentera koden** som ni skriver med korta förklaringar på vad koden gör.\n",
    "\n",
    "Datasetet som ni kommer använda er av är ett subset av data från MNIST och innehåller handskrivna siffror från 0-9 i gråskala [0-255]. Datan är uppdelad i två filer, **train.csv** och **test.csv**, som finns tillsammans med uppgiften på Canvas.\n",
    "\n",
    "Till er hjälp så är det meningen att ni ska använda er av följande paket:\n",
    "* torch --- Huvudpaketet för ''pytorch'', används för att implementera och träna neurala nät.\n",
    "* torchvision --- Stödpaket för ''pytorch'', används för att hantera data.\n",
    "* sklearn --- Huvudpaketet för ''scikit-learn'', används för att implementera SVM:s.\n",
    "* matplotlib --- Verktyg för att plotta grafer/bilder.\n",
    "* pandas --- Verktyg för datahantering\n",
    "* numpy --- Verktyg för datahantering/matris-manipulering\n",
    "\n",
    "Paketen kan installeras på olika sätt, exempelvis genom Python-verktyget pip, och det kan då se ut såhär:\n",
    "\n",
    "<pre><code> pip install torch </pre></code>\n",
    "\n",
    "eller\n",
    "\n",
    "<pre><code> pip3 install scikit-learn </pre></code>\n",
    "\n",
    "Vi rekommenderar att ni gör detta i en virtuell Python-miljö via exempelvis Anaconda och med Python-version 3.8.*."
   ]
  },
  {
   "cell_type": "markdown",
   "id": "01c7eed7",
   "metadata": {},
   "source": [
    "Paketen och klasserna som ska importeras är fördefinierade här under."
   ]
  },
  {
   "cell_type": "code",
   "execution_count": 2,
   "id": "9b84aab1",
   "metadata": {},
   "outputs": [],
   "source": [
    "import torch\n",
    "from torch import nn, optim\n",
    "from torch.utils.data import DataLoader, Dataset\n",
    "\n",
    "import matplotlib.pyplot as plt\n",
    "import pandas as pd\n",
    "import numpy as np\n",
    "from sklearn import metrics\n",
    "from sklearn.svm import SVC"
   ]
  },
  {
   "cell_type": "markdown",
   "id": "ffadce06",
   "metadata": {},
   "source": [
    "### Uppgift 1 -  Ladda data\n",
    "\n",
    "1. Ladda in datan från de två filerna med hjälp av **pandas** och spara i varsin DataFrame, train_df & test_df.\n",
    "2. Dela upp träningsdatan i två delar, en för träning och en för validering, genom att specificera storleken på träningsdatan n_training_large. Skapa även en kopia av träningsdatan där endast de första 1000 datapunkterna ingår. Använd samma valideringsdata för alla modeller.\n",
    "3. Ge en kort motivering till varför ni valt just detta värdet på **n_training_large**. \n",
    "4. Ta reda på vilken column i datan som innehåller svaret på vilken klass en bild tillhör och printa det."
   ]
  },
  {
   "cell_type": "code",
   "execution_count": 3,
   "id": "ceae9575",
   "metadata": {},
   "outputs": [],
   "source": [
    "# Uppgift 1.1\n",
    "\n",
    "# Load the two files into dataframes using pandas and store \n",
    "train_df = pd.read_csv(r\"C:/Users/johan/OneDrive/Dokument/GitHub/Assignment3ML/train.CSV\")\n",
    "test_df = pd.read_csv(r\"C:/Users/johan/OneDrive/Dokument/GitHub/Assignment3ML/test.CSV\")"
   ]
  },
  {
   "cell_type": "code",
   "execution_count": 4,
   "id": "a13b2f62",
   "metadata": {},
   "outputs": [
    {
     "name": "stdout",
     "output_type": "stream",
     "text": [
      "Training data - small: 1000\n",
      "Training data - large: 25598\n",
      "Validation data: 6400\n",
      "Test data: 10002\n"
     ]
    }
   ],
   "source": [
    "# Uppgift 1.2\n",
    "\n",
    "# Separate the data into a suitable split between training and validation\n",
    "# by specifing the number of samples in the training set, n_training_data.\n",
    "n_training_small = 1000\n",
    "n_training_large = len(train_df) * 4//5\n",
    "\n",
    "\n",
    "print('Training data - small: {}'.format(n_training_small))\n",
    "print('Training data - large: {}'.format(n_training_large))\n",
    "print('Validation data: {}'.format(len(train_df) - n_training_large))\n",
    "print('Test data: {}'.format(len(test_df)))"
   ]
  },
  {
   "cell_type": "markdown",
   "id": "65cc3f70",
   "metadata": {},
   "source": [
    "Ge en kort motivering till valet av storleken på **n_training_large**"
   ]
  },
  {
   "cell_type": "code",
   "execution_count": 5,
   "id": "e41a1a8b",
   "metadata": {},
   "outputs": [],
   "source": [
    "# Uppgift 1.3\n",
    "# ANSWER HERE\n",
    "#It seems reaonable that the large data is training on 80% of the data and test on 20%"
   ]
  },
  {
   "cell_type": "code",
   "execution_count": 5,
   "id": "ad126cdd",
   "metadata": {},
   "outputs": [],
   "source": [
    "# This code separates the data into two parts according to the size of the training data, n_training_large & n_training_small,\n",
    "# specified above.\n",
    "val_df = train_df.iloc[n_training_large:, :].copy()\n",
    "train_df_small = train_df.iloc[0:n_training_small, :].copy()\n",
    "train_df = train_df.iloc[0:n_training_large, :].copy()"
   ]
  },
  {
   "cell_type": "code",
   "execution_count": 6,
   "id": "01ceb061",
   "metadata": {},
   "outputs": [
    {
     "name": "stdout",
     "output_type": "stream",
     "text": [
      "(25598, 785)\n",
      "(1000, 785)\n",
      "(6400, 785)\n",
      "(10002, 785)\n"
     ]
    }
   ],
   "source": [
    "# Printing the shape of the data\n",
    "print(train_df.shape)\n",
    "print(train_df_small.shape)\n",
    "print(val_df.shape)\n",
    "print(test_df.shape)"
   ]
  },
  {
   "cell_type": "code",
   "execution_count": 7,
   "id": "3016f5cd",
   "metadata": {},
   "outputs": [
    {
     "name": "stdout",
     "output_type": "stream",
     "text": [
      "0        1\n",
      "1        0\n",
      "2        1\n",
      "3        4\n",
      "4        0\n",
      "        ..\n",
      "25593    4\n",
      "25594    4\n",
      "25595    5\n",
      "25596    2\n",
      "25597    0\n",
      "Name: label, Length: 25598, dtype: int64\n",
      "       pixel0  pixel1  pixel2  pixel3  pixel4  pixel5  pixel6  pixel7  pixel8  \\\n",
      "0           0       0       0       0       0       0       0       0       0   \n",
      "1           0       0       0       0       0       0       0       0       0   \n",
      "2           0       0       0       0       0       0       0       0       0   \n",
      "3           0       0       0       0       0       0       0       0       0   \n",
      "4           0       0       0       0       0       0       0       0       0   \n",
      "...       ...     ...     ...     ...     ...     ...     ...     ...     ...   \n",
      "25593       0       0       0       0       0       0       0       0       0   \n",
      "25594       0       0       0       0       0       0       0       0       0   \n",
      "25595       0       0       0       0       0       0       0       0       0   \n",
      "25596       0       0       0       0       0       0       0       0       0   \n",
      "25597       0       0       0       0       0       0       0       0       0   \n",
      "\n",
      "       pixel9  ...  pixel774  pixel775  pixel776  pixel777  pixel778  \\\n",
      "0           0  ...         0         0         0         0         0   \n",
      "1           0  ...         0         0         0         0         0   \n",
      "2           0  ...         0         0         0         0         0   \n",
      "3           0  ...         0         0         0         0         0   \n",
      "4           0  ...         0         0         0         0         0   \n",
      "...       ...  ...       ...       ...       ...       ...       ...   \n",
      "25593       0  ...         0         0         0         0         0   \n",
      "25594       0  ...         0         0         0         0         0   \n",
      "25595       0  ...         0         0         0         0         0   \n",
      "25596       0  ...         0         0         0         0         0   \n",
      "25597       0  ...         0         0         0         0         0   \n",
      "\n",
      "       pixel779  pixel780  pixel781  pixel782  pixel783  \n",
      "0             0         0         0         0         0  \n",
      "1             0         0         0         0         0  \n",
      "2             0         0         0         0         0  \n",
      "3             0         0         0         0         0  \n",
      "4             0         0         0         0         0  \n",
      "...         ...       ...       ...       ...       ...  \n",
      "25593         0         0         0         0         0  \n",
      "25594         0         0         0         0         0  \n",
      "25595         0         0         0         0         0  \n",
      "25596         0         0         0         0         0  \n",
      "25597         0         0         0         0         0  \n",
      "\n",
      "[25598 rows x 784 columns]\n"
     ]
    }
   ],
   "source": [
    "# Uppgift 1.4\n",
    "\n",
    "# Figure out which column that contains the labels (classes) and print it here\n",
    "# CODE HERE\n",
    "\n",
    "print(train_df.iloc[0:, 0])\n",
    "print(train_df.iloc[0:, 1:])"
   ]
  },
  {
   "cell_type": "markdown",
   "id": "f611d67d",
   "metadata": {},
   "source": [
    "### Uppgift 2 - Formatera data\n",
    "\n",
    "Kod för att bearbeta data kan snabbt bli rörig och svår att underhålla och bör därför inte hänga ihop med koden som tränar nätverken. Detta ger också bättre läsbarhet och ökad modularitet. PyTorch tillhandahåller två hjälp-klasser: **torch.utils.data.DataLoader** och **torch.utils.data.Dataset** som låter dig ladda in färdiga dataset samt skapa egna. Klassen **Dataset** lagrar datapunkterna och deras motsvarande labels och **DataLoader** gör om datasetet till en *iterable* för att göra det enkelt att använda datapunkterna. I koden i blocket nedan så ser ni skelettet till ett egenskapat dataset, **MNISTDataset**, som ärver klassen **Dataset**. \n",
    "\n",
    "\n",
    "1. Gör klart implementationen av Dataset-klassen **MNISTDataset** genom att skriva kod som separerar datan i labels och features samt normaliserar datan och gör om den till matriser som motsvarar bilder av storleken 28x28 pixlar.\n",
    "2. Skapa 4 dataset utifrån train_df, train_df_small, val_df och test_df.\n",
    "3. Bestäm storlekarna på batcherna som ska användas vid träning respektive testning och skapa 4 DataLoaders för de fyra dataseten ovan. Träningsdatan ska slumpas men inte validering och test.\n",
    "4. Plotta ett par exempelbilder och deras labels mha **matplotlib** och DataLoadern för träningssetet."
   ]
  },
  {
   "cell_type": "code",
   "execution_count": 8,
   "id": "88174aea",
   "metadata": {},
   "outputs": [],
   "source": [
    "# Uppgift 2.1\n",
    "\n",
    "class MNISTDataset(Dataset): \n",
    "  def __init__(self, df):\n",
    "    # Separate the labels and the pixel values into the arrays y and x, respectively.\n",
    "    # CODE HERE\n",
    "    y = []\n",
    "    x = []\n",
    "    \n",
    "    # Normalize the x-values and transform the data into images of size (color channels, width, height), i.e. w(1, 28, 28).\n",
    "    # CODE HERE\n",
    "    for index, row in df.iterrows():\n",
    "      y.append(row[\"label\"])\n",
    "      pixel=row.loc[df.columns != \"label\"] \n",
    "      x.append(pixel.values.reshape((28,28)) / 255) \n",
    " \n",
    "    # the numpy arrays are converted into tensors that will be used in the training and testing of the network\n",
    "    self.x=torch.tensor(x,dtype=torch.float32)\n",
    "    self.y=torch.tensor(y)\n",
    " \n",
    "  def __len__(self):\n",
    "    # returns the number of samples in the dataset\n",
    "    return len(self.y)\n",
    "   \n",
    "  def __getitem__(self, idx):\n",
    "    # returns a sample from the dataset at the given index idx\n",
    "    return self.x[idx], self.y[idx]"
   ]
  },
  {
   "cell_type": "code",
   "execution_count": 9,
   "id": "dfdf3ca7",
   "metadata": {},
   "outputs": [
    {
     "name": "stderr",
     "output_type": "stream",
     "text": [
      "C:\\Users\\johan\\AppData\\Local\\Temp\\ipykernel_21484\\3300331513.py:18: UserWarning: Creating a tensor from a list of numpy.ndarrays is extremely slow. Please consider converting the list to a single numpy.ndarray with numpy.array() before converting to a tensor. (Triggered internally at C:\\actions-runner\\_work\\pytorch\\pytorch\\builder\\windows\\pytorch\\torch\\csrc\\utils\\tensor_new.cpp:233.)\n",
      "  self.x=torch.tensor(x,dtype=torch.float32)\n"
     ]
    }
   ],
   "source": [
    "# Uppgift 2.2\n",
    "\n",
    "# Create four datasets, from the dataframes defined earlier, using the MNISTDataset class\n",
    "train_dataset = MNISTDataset(train_df)\n",
    "train_dataset_small = MNISTDataset(train_df_small)\n",
    "val_dataset = MNISTDataset(val_df)\n",
    "test_dataset = MNISTDataset(test_df)"
   ]
  },
  {
   "cell_type": "code",
   "execution_count": 10,
   "id": "3b3219ac",
   "metadata": {},
   "outputs": [],
   "source": [
    "# Uppgift 2.3\n",
    "\n",
    "# Specify the batch_sizes to use for training and testing\n",
    "batch_size_train = 10\n",
    "batch_size_test = 10\n",
    "\n",
    "# Create four DataLoaders from the four datasets above. Shuffle the training data but not the others.\n",
    "train_dload = DataLoader(train_dataset, batch_size=batch_size_train)\n",
    "train_dload_small = DataLoader(train_dataset_small, batch_size=batch_size_train)\n",
    "val_dload = DataLoader(val_dataset, batch_size=batch_size_train)\n",
    "test_dload = DataLoader(test_dataset, batch_size=batch_size_test)"
   ]
  },
  {
   "cell_type": "code",
   "execution_count": 11,
   "id": "08d27937",
   "metadata": {},
   "outputs": [
    {
     "data": {
      "image/png": "[encoded data removed]",
      "text/plain": [
       "<Figure size 800x800 with 9 Axes>"
      ]
     },
     "metadata": {},
     "output_type": "display_data"
    }
   ],
   "source": [
    "# Uppgift 2.4\n",
    "\n",
    "# Plot images and labels for a few examples using the DataLoader for the training set.\n",
    "# CODE HERE\n",
    "\n",
    "figure = plt.figure(figsize=(8, 8))\n",
    "cols, rows = 3, 3\n",
    "for i in range(1, cols * rows + 1):\n",
    "    sample_idx = torch.randint(len(train_dataset), size=(1,)).item()\n",
    "    img, label = train_dataset[sample_idx]\n",
    "    figure.add_subplot(rows, cols, i)\n",
    "    plt.title(label)\n",
    "    plt.axis(\"off\")\n",
    "    plt.imshow(img.squeeze(), cmap=\"gray\")\n",
    "plt.show()"
   ]
  },
  {
   "cell_type": "markdown",
   "id": "3c9151df",
   "metadata": {},
   "source": [
    "### Uppgift 3 - Bygga dense-nätverk\n",
    "\n",
    "Det första neurala nätverket vi ska skapa är ett så kallat Fully-connected/Dense Neural Network och består därför endast av lager där alla neuroner i ett lager är sammankopplade med alla neuroner från lagret innan. I **pytorch** så kan man skapa sin egen klass för ett nätverk genom att ärva *nn.Module* och implementera en *__ init__()* samt en *forward()* metod.\n",
    "\n",
    "Ett lager av typen FC skapas i **pytorch** med hjälp av *nn.Linear* enligt exemplet nedan. \n",
    "<pre><code> nn.Linear(nr_of_input_neurons, nr_of_output_neurons) </pre></code>\n",
    "De viktigaste input-parametrarna är antalet neuroner i lagret innan, **nr_of_input_neurons**, samt hur många neuroner detta lagret ska ha, **nr_of_output_neurons**. Mer information hittar ni i dokumentationen: https://pytorch.org/docs/stable/generated/torch.nn.Linear.html#torch.nn.Linear\n",
    "\n",
    "I dokumentationen hittar ni också information om olika aktiveringsfunktioner: https://pytorch.org/docs/stable/nn.html#non-linear-activations-weighted-sum-nonlinearity\n",
    "\n",
    "När nätverket är färdigt så är nästa steg att bestämma sin loss-funktion samt learning rate och optimerare.\n",
    "\n",
    "1. Gör klart nätverket.\n",
    "2. Välj loss-funktion, learning rate och optimizers."
   ]
  },
  {
   "cell_type": "code",
   "execution_count": 12,
   "id": "86857b5d",
   "metadata": {},
   "outputs": [],
   "source": [
    "# Uppgift 3.1\n",
    "\n",
    "class DenseNet(nn.Module):\n",
    "    def __init__(self, input_size=784, num_classes=10):\n",
    "        super().__init__()\n",
    "\n",
    "        # Add more Linear (FC/Dense) layers here and experiment with different number of neurons.\n",
    "        self.fc_in = nn.Linear(input_size, 500)\n",
    "        self.fc_between = nn.Linear(500, 100)\n",
    "        self.fc_between2 = nn.Linear(100, 8)\n",
    "        self.fc_out = nn.Linear(self.fc_between2.out_features, num_classes)\n",
    "\n",
    "        self.activation = nn.ReLU()\n",
    "\n",
    "    def forward(self, x):\n",
    "        # Reshapes the input of size (batch x 1x28x28) into a vector (batch x784)\n",
    "        x = x.view(x.shape[0], -1)\n",
    "\n",
    "        x = self.fc_in(x)\n",
    "        x = self.activation(x)\n",
    "\n",
    "        x = self.fc_between(x)\n",
    "        x = self.activation(x)\n",
    "\n",
    "        x = self.fc_between2(x)\n",
    "        x = self.activation(x)\n",
    "\n",
    "        x = self.fc_out(x)\n",
    "\n",
    "        return x"
   ]
  },
  {
   "cell_type": "code",
   "execution_count": 13,
   "id": "88c1f5df",
   "metadata": {},
   "outputs": [
    {
     "name": "stdout",
     "output_type": "stream",
     "text": [
      "DenseNet(\n",
      "  (fc_in): Linear(in_features=784, out_features=500, bias=True)\n",
      "  (fc_between): Linear(in_features=500, out_features=100, bias=True)\n",
      "  (fc_between2): Linear(in_features=100, out_features=8, bias=True)\n",
      "  (fc_out): Linear(in_features=8, out_features=10, bias=True)\n",
      "  (activation): ReLU()\n",
      ")\n",
      "Number of parameters: 443498\n"
     ]
    }
   ],
   "source": [
    "# Create the network\n",
    "dense_net = DenseNet()\n",
    "\n",
    "# Printing the network gives an overview of the network structure\n",
    "print(dense_net)\n",
    "# and calculating the nuber of parameters gives the size of the network\n",
    "print('Number of parameters: {}'.format(sum([param.nelement() for param in dense_net.parameters()])))\n"
   ]
  },
  {
   "cell_type": "markdown",
   "id": "ce97dfde",
   "metadata": {},
   "source": [
    "Bestäm en learning rate, vilken loss-funktion samt vilken optimerare som ska användas för att lösa uppgiften.\n",
    "\n",
    "Loss-funktioner hittar man i modulen **nn** på följande sätt: \n",
    "\n",
    "<pre><code> nn.NamnetPåLossFunktionen() </pre></code>\n",
    "\n",
    "där de olika varianterna hittas här https://pytorch.org/docs/stable/nn.html#loss-functions\n",
    "\n",
    "och optimerare:\n",
    "\n",
    "<pre><code> optim.NamnetPåOptimeraren() </pre></code>\n",
    "\n",
    "som hittas här https://pytorch.org/docs/stable/optim.html"
   ]
  },
  {
   "cell_type": "code",
   "execution_count": 14,
   "id": "4c265902",
   "metadata": {},
   "outputs": [],
   "source": [
    "# Uppgift 3.2\n",
    "\n",
    "learning_rate = 0.1\n",
    "\n",
    "loss_function = nn.CrossEntropyLoss()\n",
    "optimizer = optim.SGD(dense_net.parameters(), lr=learning_rate)"
   ]
  },
  {
   "cell_type": "markdown",
   "id": "4c2703f6",
   "metadata": {},
   "source": [
    "### Uppgift 4 - Träna och evaluera dense-nätverk\n",
    "\n",
    "Träning av nätverket innebär att vi i epoker (upprepade omgångar) låter nätverket gissa klassen på samtliga våra bilder i träningsdatan. Felet och dess gradienterna för samtliga parametrar beräknas mha loss-funktionen och nätverket uppdateras sen utifrån gradienterna av optimeraren.\n",
    "\n",
    "1. Skriv en funktion *train(network, epoch, dataset)* som tar emot nätverket, numret på en epok samt träningsdata och utför träning av nätverket i batcher tills all data har gåtts igenom en gång. Beräkna gradienterna och uppdatera värdet.\n",
    "2. Skriv en funktion *test(dataset)* som beräknar average loss och accuracy för nätverket på ett angivet dataset och sedan printar detta. Funktionen ska returnera snitt-felet som ett värde.\n",
    "3. Experimentera er fram till ett nätverk som presterar bra (>96% accuracy) på det stora träningssetet och jämför sedan resultatet med en kopia av samma nätverk som man tränar om med det lilla datasetet."
   ]
  },
  {
   "cell_type": "markdown",
   "id": "1c23f2ee",
   "metadata": {},
   "source": [
    "Nedan följer en beskrivning i text av vad *train* ska göra:\n",
    "\n",
    "<pre><code> \n",
    "funktion train(network, epoch, dataset)\n",
    "    Sätt nätverket i träningsläge\n",
    "    För varje batch i datasetet\n",
    "        Nollställ optimerarens gradienter    \n",
    "        Beräkna nätverkets gissningar utifrån batchen med data\n",
    "        Beräkna felet mha loss-funktionen och true-labels/targets\n",
    "        Beräkna fel-gradienterna för samtliga parametrar\n",
    "        Uppdatera nätverket mha optimeraren\n",
    "        \n",
    "        För vissa batcher, printa info om hur träningen går, exempelvis batch, loss och procent av epoken som är klar.\n",
    "</pre></code>"
   ]
  },
  {
   "cell_type": "code",
   "execution_count": 15,
   "id": "25ebed68",
   "metadata": {},
   "outputs": [],
   "source": [
    "# Uppgift 4.1\n",
    "\n",
    "def train(network, epoch, dataset):\n",
    "    network.train()\n",
    "    for i,(train_features,train_labels) in enumerate(dataset):\n",
    "        optimizer.zero_grad()\n",
    "        output = network(train_features)\n",
    "        loss = loss_function(output, train_labels)\n",
    "        loss.backward()\n",
    "        optimizer.step()"
   ]
  },
  {
   "cell_type": "markdown",
   "id": "7550fee5",
   "metadata": {},
   "source": [
    "Nedan följer en beskrivning i text av vad *test* ska göra:\n",
    "\n",
    "<pre><code> \n",
    "funktion test(network, dataset)\n",
    "    y_true = []\n",
    "    y_pred = []\n",
    "    \n",
    "    Sätt nätverket i evalueringsläge\n",
    "    Stäng av användningen av gradienter\n",
    "        För varje batch i datasetet\n",
    "            Beräkna nätverkets gissningar utifrån batchen med data\n",
    "            Beräkna felet mha loss-funktionen och true-labels/targets\n",
    "            Spara gissningarna i y_pred\n",
    "            Spara de rätta svaren i y_true\n",
    "            \n",
    "    Använd y_pred och y_true för att beräkna accuracy och skapa en confusion matrix\n",
    "    Printa Avg. loss, accuracy och en confusion matrix\n",
    "    Returnera Avg. loss\n",
    "</pre></code>"
   ]
  },
  {
   "cell_type": "code",
   "execution_count": 18,
   "id": "1b5aea85",
   "metadata": {
    "scrolled": true
   },
   "outputs": [],
   "source": [
    "# Uppgift 4.2\n",
    "\n",
    "def test(network, dataset):\n",
    "    y_true = []\n",
    "    y_pred = []\n",
    "    losses = []\n",
    "    network.eval()\n",
    "    with torch.no_grad():\n",
    "        for i,(features,labels) in enumerate(dataset):\n",
    "            output = network(features)\n",
    "            loss = loss_function(output, labels)\n",
    "            y_pred.append(output)\n",
    "            y_true.append(labels)\n",
    "            losses.append(loss)\n",
    "    #print(f\"Batch = {i}, loss = {loss}, epoch = {epoch}\")\n",
    "    avg_loss = np.mean(losses)\n",
    "    TP = 0\n",
    "    for i in range(len(y_true)):\n",
    "        true = y_true[i]\n",
    "        pred = y_pred[i]\n",
    "        _, indices = torch.max(pred, 1)\n",
    "        #print(true, pred)\n",
    "        match=True\n",
    "        for j in range(len(true)):\n",
    "            if true[j]== indices[j]:\n",
    "                TP+=1\n",
    "        \n",
    "    accuracy = TP/(len(y_true)*len(y_true[0]))\n",
    "    print(f\"Avg. Loss = {avg_loss}, Accuracy = {accuracy}\")\n",
    "    \n",
    "    \n",
    "    from sklearn.metrics import confusion_matrix, ConfusionMatrixDisplay\n",
    "    import itertools as it\n",
    "    y_true_list=[]\n",
    "    y_pred_list=[]\n",
    "    #print(y_pred)\n",
    "    #print(y_true)\n",
    "    for yt, yp in zip (y_true, y_pred):\n",
    "        for j in range(len(yp)):\n",
    "            y_true_list.append(yt[j].item())\n",
    "            _,x = torch.max(yp,1)\n",
    "            y_pred_list.append(x[j].item())\n",
    "    #print(y_pred_list)\n",
    "    cm = confusion_matrix(y_true_list, y_pred_list)\n",
    "    \n",
    "\n",
    "        \n",
    "     \n",
    "    return avg_loss, cm\n",
    "    #raise NotImplementedError('Function not implemented yet.')"
   ]
  },
  {
   "cell_type": "markdown",
   "id": "f68b927c",
   "metadata": {},
   "source": [
    "Det som är kvar nu är att träna nätverket i flera omgångar (epoker) och kontinuerligt utvärdera hur träningen går mha valideringsdatan. Varje gång en ny lägsta (bästa) loss uppnås så kan modellen och optimeraren sparas för att användas igen senare."
   ]
  },
  {
   "cell_type": "code",
   "execution_count": 19,
   "id": "7d5a5a8d",
   "metadata": {},
   "outputs": [
    {
     "name": "stdout",
     "output_type": "stream",
     "text": [
      "Avg. Loss = 0.15819001197814941, Accuracy = 0.95625\n",
      "Saving best model to ./results/net.txt.pth\n",
      "\n",
      "Avg. Loss = 0.1392989605665207, Accuracy = 0.9628125\n",
      "Saving best model to ./results/net.txt.pth\n",
      "\n",
      "Avg. Loss = 0.14019326865673065, Accuracy = 0.9615625\n",
      "Avg. Loss = 0.14072704315185547, Accuracy = 0.964375\n",
      "Avg. Loss = 0.20063047111034393, Accuracy = 0.95203125\n",
      "Avg. Loss = 0.1666184365749359, Accuracy = 0.96140625\n",
      "Avg. Loss = 0.14614009857177734, Accuracy = 0.96796875\n",
      "Avg. Loss = 0.12589718401432037, Accuracy = 0.970625\n",
      "Saving best model to ./results/net.txt.pth\n",
      "\n",
      "Avg. Loss = 0.13505320250988007, Accuracy = 0.97140625\n",
      "Avg. Loss = 0.14454208314418793, Accuracy = 0.97140625\n"
     ]
    }
   ],
   "source": [
    "def run(net_filename,opti_filename,network_to_train, data_to_train):\n",
    "    n_epochs = 10\n",
    "    #net_filename = net_filename\n",
    "    #opti_filename = opti_filename\n",
    "    best_loss = 10 ** 4\n",
    "\n",
    "    for epoch in range(1, n_epochs + 1):\n",
    "        # Perform training once on the entire set of training data\n",
    "        train(network_to_train, epoch, data_to_train)  \n",
    "\n",
    "        # Evaluate the net using validation data\n",
    "        val_loss,_ = test(network_to_train, val_dload)\n",
    "\n",
    "        # If the latest training yielded a lower validation loss than ever before, save the model to file such that the best one\n",
    "        # can always be retrieved afterwards. \n",
    "        if val_loss < best_loss:\n",
    "            print('Saving best model to {}\\n'.format('./results/{}.pth'.format(net_filename)))\n",
    "\n",
    "            # Save the network\n",
    "            torch.save(dense_net.state_dict(), './results/{}.pth'.format(net_filename))\n",
    "            # Save the optimizer, in case we want to continue training later\n",
    "            torch.save(optimizer.state_dict(), './results/{}.pth'.format(opti_filename))\n",
    "            # Update the best loss to the current loss\n",
    "            best_loss = val_loss\n",
    "run(\"net.txt\", \"opti.txt\", dense_net, train_dload)"
   ]
  },
  {
   "cell_type": "markdown",
   "id": "9c46688c",
   "metadata": {},
   "source": [
    "Ett sparat nätverk kan sedan laddas in med *torch.load(filename)* enligt koden nedan."
   ]
  },
  {
   "cell_type": "code",
   "execution_count": 20,
   "id": "204441cb",
   "metadata": {},
   "outputs": [
    {
     "data": {
      "text/plain": [
       "<All keys matched successfully>"
      ]
     },
     "execution_count": 20,
     "metadata": {},
     "output_type": "execute_result"
    }
   ],
   "source": [
    "dense_net = DenseNet()\n",
    "net_filename = \"net.txt\"\n",
    "\n",
    "network_state_dict = torch.load('./results/{}.pth'.format(net_filename))\n",
    "dense_net.load_state_dict(network_state_dict)"
   ]
  },
  {
   "cell_type": "markdown",
   "id": "33d10a42",
   "metadata": {},
   "source": [
    "##### Uppgift 4.3\n",
    "Experimentera er fram till ett nätverk som presterar bra (>96% accuracy) på det stora träningssetet genom att uppdatera och ändra nätverket i uppgift 3.1\n",
    "\n",
    "Jämför sedan resultatet med en kopia av samma nätverk som man tränar om med det lilla datasetet. Printa båda nätverkens accuracy och deras respektive confusion matrix."
   ]
  },
  {
   "cell_type": "code",
   "execution_count": 21,
   "id": "01ea4b31",
   "metadata": {},
   "outputs": [
    {
     "name": "stdout",
     "output_type": "stream",
     "text": [
      "Avg. Loss = 0.12589718401432037, Accuracy = 0.970625\n"
     ]
    },
    {
     "data": {
      "image/png": "[encoded data removed]",
      "text/plain": [
       "<Figure size 640x480 with 2 Axes>"
      ]
     },
     "metadata": {},
     "output_type": "display_data"
    }
   ],
   "source": [
    "# CODE HERE\n",
    "from sklearn.metrics import confusion_matrix, ConfusionMatrixDisplay\n",
    "\n",
    "test1, cm = test(dense_net, val_dload)\n",
    "\n",
    "disp = ConfusionMatrixDisplay(confusion_matrix=cm)\n",
    "disp.plot()\n",
    "plt.show()"
   ]
  },
  {
   "cell_type": "markdown",
   "id": "415bcd81",
   "metadata": {},
   "source": [
    "### Uppgift 5 - Träna och evaluera SVM:s\n",
    "\n",
    "1. När vi tränar SVM:s mha scikit-learn så kan vi inte längre använda oss av våra DataLoaders utan behöver därför gå tillbaka till våra dataframes, train_df, train_df_small, val_df och test_df. Skriv kod som separerar varje dataframe i features (pixlar) och labels (klasser) samt normaliserar features [0, 1].\n",
    "2. Skriv kod för att med hjälp av sklearn och klassen SVC skapa en SVM-modell för bildklassificering.\n",
    "3. Träna SVM-modellen på träningsdatan.\n",
    "4. Experimentera er fram till en SVM-modell som presterar bra (>95% accuracy) på det stora träningssetet och jämför sedan resultatet med en kopia av samma nätverk som man tränar om med det lilla datasetet."
   ]
  },
  {
   "cell_type": "code",
   "execution_count": 22,
   "id": "f90086ff",
   "metadata": {},
   "outputs": [],
   "source": [
    "# Uppgift 5.1\n",
    "\n",
    "\n",
    "def data(df):\n",
    "    y = []\n",
    "    x = []\n",
    "    for index,row in df.iterrows():\n",
    "        y.append(row[\"label\"])\n",
    "        pixels=row.loc[df.columns != \"label\"]\n",
    "        x.append(pixels.values / 255)\n",
    "    return y, x\n",
    "train_y ,train_X = data(train_df)\n",
    "\n",
    "train_y_small ,train_X_small = data(train_df_small)\n",
    "\n",
    "val_y, val_X = data(val_df)\n",
    "\n",
    "test_y, test_X = data(test_df)"
   ]
  },
  {
   "cell_type": "code",
   "execution_count": 23,
   "id": "f7fdf416",
   "metadata": {},
   "outputs": [],
   "source": [
    "# Uppgift 5.2\n",
    "# CODE HERE\n",
    "from sklearn import svm\n",
    "svm_model = svm.SVC()"
   ]
  },
  {
   "cell_type": "code",
   "execution_count": 24,
   "id": "1e12f01e",
   "metadata": {},
   "outputs": [
    {
     "data": {
      "text/html": [
       "<style>#sk-container-id-1 {color: black;background-color: white;}#sk-container-id-1 pre{padding: 0;}#sk-container-id-1 div.sk-toggleable {background-color: white;}#sk-container-id-1 label.sk-toggleable__label {cursor: pointer;display: block;width: 100%;margin-bottom: 0;padding: 0.3em;box-sizing: border-box;text-align: center;}#sk-container-id-1 label.sk-toggleable__label-arrow:before {content: \"▸\";float: left;margin-right: 0.25em;color: #696969;}#sk-container-id-1 label.sk-toggleable__label-arrow:hover:before {color: black;}#sk-container-id-1 div.sk-estimator:hover label.sk-toggleable__label-arrow:before {color: black;}#sk-container-id-1 div.sk-toggleable__content {max-height: 0;max-width: 0;overflow: hidden;text-align: left;background-color: #f0f8ff;}#sk-container-id-1 div.sk-toggleable__content pre {margin: 0.2em;color: black;border-radius: 0.25em;background-color: #f0f8ff;}#sk-container-id-1 input.sk-toggleable__control:checked~div.sk-toggleable__content {max-height: 200px;max-width: 100%;overflow: auto;}#sk-container-id-1 input.sk-toggleable__control:checked~label.sk-toggleable__label-arrow:before {content: \"▾\";}#sk-container-id-1 div.sk-estimator input.sk-toggleable__control:checked~label.sk-toggleable__label {background-color: #d4ebff;}#sk-container-id-1 div.sk-label input.sk-toggleable__control:checked~label.sk-toggleable__label {background-color: #d4ebff;}#sk-container-id-1 input.sk-hidden--visually {border: 0;clip: rect(1px 1px 1px 1px);clip: rect(1px, 1px, 1px, 1px);height: 1px;margin: -1px;overflow: hidden;padding: 0;position: absolute;width: 1px;}#sk-container-id-1 div.sk-estimator {font-family: monospace;background-color: #f0f8ff;border: 1px dotted black;border-radius: 0.25em;box-sizing: border-box;margin-bottom: 0.5em;}#sk-container-id-1 div.sk-estimator:hover {background-color: #d4ebff;}#sk-container-id-1 div.sk-parallel-item::after {content: \"\";width: 100%;border-bottom: 1px solid gray;flex-grow: 1;}#sk-container-id-1 div.sk-label:hover label.sk-toggleable__label {background-color: #d4ebff;}#sk-container-id-1 div.sk-serial::before {content: \"\";position: absolute;border-left: 1px solid gray;box-sizing: border-box;top: 0;bottom: 0;left: 50%;z-index: 0;}#sk-container-id-1 div.sk-serial {display: flex;flex-direction: column;align-items: center;background-color: white;padding-right: 0.2em;padding-left: 0.2em;position: relative;}#sk-container-id-1 div.sk-item {position: relative;z-index: 1;}#sk-container-id-1 div.sk-parallel {display: flex;align-items: stretch;justify-content: center;background-color: white;position: relative;}#sk-container-id-1 div.sk-item::before, #sk-container-id-1 div.sk-parallel-item::before {content: \"\";position: absolute;border-left: 1px solid gray;box-sizing: border-box;top: 0;bottom: 0;left: 50%;z-index: -1;}#sk-container-id-1 div.sk-parallel-item {display: flex;flex-direction: column;z-index: 1;position: relative;background-color: white;}#sk-container-id-1 div.sk-parallel-item:first-child::after {align-self: flex-end;width: 50%;}#sk-container-id-1 div.sk-parallel-item:last-child::after {align-self: flex-start;width: 50%;}#sk-container-id-1 div.sk-parallel-item:only-child::after {width: 0;}#sk-container-id-1 div.sk-dashed-wrapped {border: 1px dashed gray;margin: 0 0.4em 0.5em 0.4em;box-sizing: border-box;padding-bottom: 0.4em;background-color: white;}#sk-container-id-1 div.sk-label label {font-family: monospace;font-weight: bold;display: inline-block;line-height: 1.2em;}#sk-container-id-1 div.sk-label-container {text-align: center;}#sk-container-id-1 div.sk-container {/* jupyter's `normalize.less` sets `[hidden] { display: none; }` but bootstrap.min.css set `[hidden] { display: none !important; }` so we also need the `!important` here to be able to override the default hidden behavior on the sphinx rendered scikit-learn.org. See: https://github.com/scikit-learn/scikit-learn/issues/21755 */display: inline-block !important;position: relative;}#sk-container-id-1 div.sk-text-repr-fallback {display: none;}</style><div id=\"sk-container-id-1\" class=\"sk-top-container\"><div class=\"sk-text-repr-fallback\"><pre>SVC()</pre><b>In a Jupyter environment, please rerun this cell to show the HTML representation or trust the notebook. <br />On GitHub, the HTML representation is unable to render, please try loading this page with nbviewer.org.</b></div><div class=\"sk-container\" hidden><div class=\"sk-item\"><div class=\"sk-estimator sk-toggleable\"><input class=\"sk-toggleable__control sk-hidden--visually\" id=\"sk-estimator-id-1\" type=\"checkbox\" checked><label for=\"sk-estimator-id-1\" class=\"sk-toggleable__label sk-toggleable__label-arrow\">SVC</label><div class=\"sk-toggleable__content\"><pre>SVC()</pre></div></div></div></div></div>"
      ],
      "text/plain": [
       "SVC()"
      ]
     },
     "execution_count": 24,
     "metadata": {},
     "output_type": "execute_result"
    }
   ],
   "source": [
    "# Uppgift 5.3\n",
    "# CODE HERE\n",
    "svm_model.fit(train_X, train_y)"
   ]
  },
  {
   "cell_type": "code",
   "execution_count": 25,
   "id": "30d3b37f",
   "metadata": {},
   "outputs": [],
   "source": [
    "def evaluate_svm_model(model, testX, testy):\n",
    "    # Make predictions\n",
    "    y_pred = model.predict(testX)\n",
    "    \n",
    "    # Calculate accuracy\n",
    "    acc = metrics.accuracy_score(y_true=testy, y_pred=y_pred)\n",
    "    # Create confusion matrix\n",
    "    cm = metrics.confusion_matrix(testy, y_pred)\n",
    "\n",
    "    print(\"Accuracy:\", round(acc, 4) * 100, \"\\n\")\n",
    "    print(cm)"
   ]
  },
  {
   "cell_type": "code",
   "execution_count": 26,
   "id": "37c615fb",
   "metadata": {},
   "outputs": [
    {
     "name": "stdout",
     "output_type": "stream",
     "text": [
      "Accuracy: 97.19 \n",
      "\n",
      "[[616   0   2   0   0   1   0   0   0   1]\n",
      " [  0 689   4   2   1   0   0   2   0   1]\n",
      " [  2   2 623   1   2   1   1   5   5   0]\n",
      " [  2   0   5 616   0   7   0   3   2   3]\n",
      " [  2   0   2   0 605   0   1   0   0  12]\n",
      " [  0   0   2   3   2 577   4   1   0   2]\n",
      " [  5   1   0   0   2   3 596   0   2   0]\n",
      " [  1   2   2   0   4   0   0 654   0   9]\n",
      " [  0   4   3   4   3   6   2   2 603   3]\n",
      " [  0   1   2  10   9   1   0   9   4 641]]\n"
     ]
    }
   ],
   "source": [
    "evaluate_svm_model(svm_model, val_X, val_y)"
   ]
  },
  {
   "cell_type": "markdown",
   "id": "3e096662",
   "metadata": {},
   "source": [
    "##### Uppgift 5.4\n",
    "Experimentera er fram till en SVM-modell som presterar bra (>95% accuracy) på det stora träningssetet genom att uppdatera och ändra modellen i Uppgift 5.2.\n",
    "\n",
    "Jämför sedan resultatet med en kopia av samma modell som man tränar om med det lilla datasetet. Printa båda modellernas accuracy och deras respektive confusion matrix."
   ]
  },
  {
   "cell_type": "code",
   "execution_count": 27,
   "id": "8d60380b",
   "metadata": {},
   "outputs": [
    {
     "name": "stdout",
     "output_type": "stream",
     "text": [
      "Accuracy: 92.09 \n",
      "\n",
      "[[603   0   6   0   1   3   4   1   2   0]\n",
      " [  0 681   5   1   1   6   2   0   1   2]\n",
      " [  2   6 599   6   5   1   8   4  11   0]\n",
      " [  1   2  14 562   0  20   4  10  18   7]\n",
      " [  2   5   3   0 560   0   2   1   3  46]\n",
      " [  1   4   4   6   7 543  11   2   7   6]\n",
      " [  5   1   7   0   8   6 579   0   3   0]\n",
      " [  6   5  10   0  11   2   0 619   2  17]\n",
      " [  2  13  10  17   3  16   2   5 553   9]\n",
      " [  2   4  11  13  25   1   0  16  10 595]]\n"
     ]
    }
   ],
   "source": [
    "# CODE HERE\n",
    "svm_model_small = svm.SVC()\n",
    "svm_model_small.fit(train_X_small,train_y_small)\n",
    "evaluate_svm_model(svm_model_small, val_X, val_y)"
   ]
  },
  {
   "cell_type": "markdown",
   "id": "7e2c365e",
   "metadata": {},
   "source": [
    "### Uppgift 6 - Träna och evaluera CNN\n",
    "\n",
    "Den sista delen av den här inlämningen är att ni ska implementera och utvärdera ett CNN utifrån de verktyg ni har använt tidigare under uppgiften. En viktig skillnad med convolutions jämfört med FC-lager är att de gradvis minskar storleken på sin output utifrån kernel-size:n (n, m) och att antalet kanaler/channels motsvarar antalet filter i lagret. Exempelvis så kommer en input på 28x28 som körs genom en convolution med kernel-size (3, 4) och stride=1 ge en output som är (28-n+1)x(28-m+1)=26x25. Använder man däremot padding när man genomför sina convolutions så blir input och output lika stora.\n",
    "\n",
    "I pytorch genomför man convolutions mha:\n",
    "<pre><code> nn.Conv2d(nr_of_input_filters, nr_of_output_filters, kernel) </pre></code>\n",
    "\n",
    "För mer information se dokumentationen: https://pytorch.org/docs/stable/generated/torch.nn.Conv2d.html#torch.nn.Conv2d\n",
    "\n",
    "1. Gör klart implementationen av ett CNN\n",
    "2. Experimentera fram ett CNN-nätverk som presterar minst lika bra som Dense-nätet.\n",
    "3. Jämför sedan resultatet med en kopia av samma modell som man tränar om med det lilla datasetet. Printa båda modellernas accuracy och deras respektive confusion matrix."
   ]
  },
  {
   "cell_type": "code",
   "execution_count": 30,
   "id": "6688064d",
   "metadata": {},
   "outputs": [],
   "source": [
    "class ConvModel(nn.Module):\n",
    "    def __init__(self, input_channels=1, num_classes=10):\n",
    "        super().__init__()\n",
    "        self.kernel = 1\n",
    "        self.filters = 10\n",
    "\n",
    "        self.conv_in = nn.Conv2d(input_channels, self.filters, self.kernel)\n",
    "        self.activation = nn.ReLU()\n",
    "\n",
    "    def forward(self, x):\n",
    "        x = self.conv_in(x)\n",
    "        x = self.activation(x)\n",
    "\n",
    "        return x"
   ]
  },
  {
   "cell_type": "code",
   "execution_count": 31,
   "id": "23cf6412",
   "metadata": {},
   "outputs": [
    {
     "name": "stdout",
     "output_type": "stream",
     "text": [
      "ConvModel(\n",
      "  (conv_in): Conv2d(1, 10, kernel_size=(1, 1), stride=(1, 1))\n",
      "  (activation): ReLU()\n",
      ")\n"
     ]
    }
   ],
   "source": [
    "conv_net = ConvModel()\n",
    "print(conv_net)"
   ]
  },
  {
   "cell_type": "code",
   "execution_count": null,
   "id": "173b4199",
   "metadata": {},
   "outputs": [],
   "source": [
    "# Uppgift 6.2\n",
    "# CODE HERE"
   ]
  },
  {
   "cell_type": "markdown",
   "id": "e3224163",
   "metadata": {},
   "source": [
    "### Uppgift 7 - Jämför restultaten på test-setet\n",
    "\n",
    "Gör en jämförelse av de tre sätten att klassificera på utifrån de resultat ni har fått på test-setet, både för det stora och det lilla setet med träningsdata. Komplettera er jämförelse med grafer, resultat, kod eller annat som stärker er argumentation i första rutan nedan och skriv en kort beskrivning av era slutsatser i rutan under det."
   ]
  },
  {
   "cell_type": "code",
   "execution_count": null,
   "id": "a9d5ff67",
   "metadata": {},
   "outputs": [],
   "source": [
    "# CODE HERE"
   ]
  },
  {
   "cell_type": "code",
   "execution_count": null,
   "id": "63b5d642",
   "metadata": {},
   "outputs": [],
   "source": [
    "# TEXT HERE"
   ]
  },
  {
   "cell_type": "markdown",
   "id": "e55a2272",
   "metadata": {},
   "source": [
    "### Uppgift 8 - Ungefär hur många timmar har gruppen lagt på att göra klart inlämningen"
   ]
  },
  {
   "cell_type": "code",
   "execution_count": null,
   "id": "71eb8982",
   "metadata": {},
   "outputs": [],
   "source": [
    "# TEXT HERE"
   ]
  }
 ],
 "metadata": {
  "kernelspec": {
   "display_name": "Python 3.9.13 64-bit (microsoft store)",
   "language": "python",
   "name": "python3"
  },
  "language_info": {
   "codemirror_mode": {
    "name": "ipython",
    "version": 3
   },
   "file_extension": ".py",
   "mimetype": "text/x-python",
   "name": "python",
   "nbconvert_exporter": "python",
   "pygments_lexer": "ipython3",
   "version": "3.9.13"
  },
  "vscode": {
   "interpreter": {
    "hash": "2f3d16969b651c63b6ea267473d1bdf27efdd3d66c6b80c10b610de1bc53bd5c"
   }
  }
 },
 "nbformat": 4,
 "nbformat_minor": 5
}
